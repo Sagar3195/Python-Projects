{
  "nbformat": 4,
  "nbformat_minor": 0,
  "metadata": {
    "colab": {
      "name": "Generate QR Code Using Python.ipynb",
      "provenance": [],
      "collapsed_sections": []
    },
    "kernelspec": {
      "name": "python3",
      "display_name": "Python 3"
    }
  },
  "cells": [
    {
      "cell_type": "markdown",
      "metadata": {
        "id": "2biWqmJhOBh_"
      },
      "source": [
        "##Generate QR Code Using Python\r\n",
        "\r\n",
        " - QR code stands for Quick Responsible code and it is machine-scanable image  which can be read instantly using a smartphone camera.\r\n",
        " - Every QR code has a number of black squares and dots which represent certain pieces of information.\r\n",
        " - pyqrcode module is QR Code generator. The module automates most of the building process for creating QR codes. \r\n",
        " - This module attempts to follow the QR code standard as closely as possible.\r\n",
        " - The terminology and the encodings used in pyqrcode come directly from the standard.\r\n",
        " - QR code can be saved as SVG, PNG and plain text by using pypng module."
      ]
    },
    {
      "cell_type": "code",
      "metadata": {
        "colab": {
          "base_uri": "https://localhost:8080/"
        },
        "id": "g5r_E8qo68E_",
        "outputId": "1c74e25d-5868-46ec-a332-bfbd3b1bf00b"
      },
      "source": [
        "!pip install PyQRCode"
      ],
      "execution_count": 2,
      "outputs": [
        {
          "output_type": "stream",
          "text": [
            "Collecting PyQRCode\n",
            "  Downloading https://files.pythonhosted.org/packages/37/61/f07226075c347897937d4086ef8e55f0a62ae535e28069884ac68d979316/PyQRCode-1.2.1.tar.gz\n",
            "Building wheels for collected packages: PyQRCode\n",
            "  Building wheel for PyQRCode (setup.py) ... \u001b[?25l\u001b[?25hdone\n",
            "  Created wheel for PyQRCode: filename=PyQRCode-1.2.1-cp36-none-any.whl size=36245 sha256=16a38d391c9f7be9028f14983dac58a01aa1e13fd2094d621cc86aefd1b39cb6\n",
            "  Stored in directory: /root/.cache/pip/wheels/54/61/2f/a4f51b09473db5737db0f654ed10eb9a4ee01f83a7412de349\n",
            "Successfully built PyQRCode\n",
            "Installing collected packages: PyQRCode\n",
            "Successfully installed PyQRCode-1.2.1\n"
          ],
          "name": "stdout"
        }
      ]
    },
    {
      "cell_type": "code",
      "metadata": {
        "colab": {
          "base_uri": "https://localhost:8080/"
        },
        "id": "1tS-_QPT6-kw",
        "outputId": "d018d2c8-70b2-4b1e-fd2b-c6ceee25fe14"
      },
      "source": [
        "!pip install pypng"
      ],
      "execution_count": 3,
      "outputs": [
        {
          "output_type": "stream",
          "text": [
            "Collecting pypng\n",
            "\u001b[?25l  Downloading https://files.pythonhosted.org/packages/bc/fb/f719f1ac965e2101aa6ea6f54ef8b40f8fbb033f6ad07c017663467f5147/pypng-0.0.20.tar.gz (649kB)\n",
            "\u001b[K     |████████████████████████████████| 655kB 6.1MB/s \n",
            "\u001b[?25hBuilding wheels for collected packages: pypng\n",
            "  Building wheel for pypng (setup.py) ... \u001b[?25l\u001b[?25hdone\n",
            "  Created wheel for pypng: filename=pypng-0.0.20-cp36-none-any.whl size=67161 sha256=008bd9be66ba2d159fe97d8ebea63b1cb4dfccedf867217b2403f5a2e20bc60d\n",
            "  Stored in directory: /root/.cache/pip/wheels/41/6b/ef/0493b536b6d4722c2ae9486691b1d49b922b9877922beeabb3\n",
            "Successfully built pypng\n",
            "Installing collected packages: pypng\n",
            "Successfully installed pypng-0.0.20\n"
          ],
          "name": "stdout"
        }
      ]
    },
    {
      "cell_type": "code",
      "metadata": {
        "id": "6NRyL1DB6-qL"
      },
      "source": [
        "##Import QRCode from pyqrcode\r\n",
        "import pyqrcode \r\n",
        "import png\r\n",
        "from pyqrcode import QRCode\r\n",
        "\r\n",
        "##String which represents the QR Code\r\n",
        "site = \"https://www.greatlearning.in/\"\r\n",
        "\r\n",
        "##Generate QR Code\r\n",
        "url_qr = pyqrcode.create(site)"
      ],
      "execution_count": 4,
      "outputs": []
    },
    {
      "cell_type": "code",
      "metadata": {
        "id": "qjPNmHZE6-uj"
      },
      "source": [
        "## Create and save the svg file naming \"greatlearn.svg\"\r\n",
        "url_qr.svg(\"/content/drive/MyDrive/Python Projects/greatleanr.svg\", scale = 8)"
      ],
      "execution_count": 5,
      "outputs": []
    },
    {
      "cell_type": "code",
      "metadata": {
        "id": "i1rVYZhp6-yI"
      },
      "source": [
        "## Create and save the png file naming \"myqr.png\"\r\n",
        "url_qr.png(\"/content/drive/MyDrive/Python Projects/myqr.png\", scale = 6)"
      ],
      "execution_count": 6,
      "outputs": []
    },
    {
      "cell_type": "code",
      "metadata": {
        "id": "TpZc2cv_6-1y"
      },
      "source": [
        "##We can detect & decode the QR code using OpenCV"
      ],
      "execution_count": 7,
      "outputs": []
    },
    {
      "cell_type": "code",
      "metadata": {
        "id": "nFRRMnHc6-5K"
      },
      "source": [
        "import cv2"
      ],
      "execution_count": 8,
      "outputs": []
    },
    {
      "cell_type": "code",
      "metadata": {
        "id": "_qdy7HHZ7Axb"
      },
      "source": [
        "d = cv2.QRCodeDetector()"
      ],
      "execution_count": 9,
      "outputs": []
    },
    {
      "cell_type": "code",
      "metadata": {
        "id": "zmFogB2J7A0I"
      },
      "source": [
        "val, points, straight_qrcode = d.detectAndDecode(cv2.imread(\"/content/drive/MyDrive/Python Projects/myqr.png\"))"
      ],
      "execution_count": 10,
      "outputs": []
    },
    {
      "cell_type": "code",
      "metadata": {
        "colab": {
          "base_uri": "https://localhost:8080/"
        },
        "id": "PoDjQNHr7A3A",
        "outputId": "e0df75ed-9cbf-47a9-ec78-96d3da670a35"
      },
      "source": [
        "print(val)"
      ],
      "execution_count": 11,
      "outputs": [
        {
          "output_type": "stream",
          "text": [
            "https://www.greatlearning.in/\n"
          ],
          "name": "stdout"
        }
      ]
    },
    {
      "cell_type": "code",
      "metadata": {
        "colab": {
          "base_uri": "https://localhost:8080/"
        },
        "id": "j71R4C5R7A5y",
        "outputId": "b33c0c88-62b7-4e74-e890-27a6678b71bd"
      },
      "source": [
        "print(points)"
      ],
      "execution_count": 12,
      "outputs": [
        {
          "output_type": "stream",
          "text": [
            "[[[ 24.  24.]]\n",
            "\n",
            " [[221.  24.]]\n",
            "\n",
            " [[221. 221.]]\n",
            "\n",
            " [[ 24. 221.]]]\n"
          ],
          "name": "stdout"
        }
      ]
    },
    {
      "cell_type": "code",
      "metadata": {
        "colab": {
          "base_uri": "https://localhost:8080/"
        },
        "id": "VOb1rR687A8e",
        "outputId": "24489062-5d11-40fe-e5d5-05536e99454f"
      },
      "source": [
        "print(straight_qrcode)"
      ],
      "execution_count": 13,
      "outputs": [
        {
          "output_type": "stream",
          "text": [
            "[[  0.   0.   0. ...   0.   0.   0.]\n",
            " [  0. 255. 255. ... 255. 255.   0.]\n",
            " [  0. 255.   0. ...   0. 255.   0.]\n",
            " ...\n",
            " [  0. 255.   0. ... 255. 255.   0.]\n",
            " [  0. 255. 255. ... 255.   0. 255.]\n",
            " [  0.   0.   0. ... 255.   0.   0.]]\n"
          ],
          "name": "stdout"
        }
      ]
    },
    {
      "cell_type": "code",
      "metadata": {
        "id": "xPsKu_ve7A_h"
      },
      "source": [
        "#Example 2:\r\n",
        "#String which represents QR Code\r\n",
        "qr_string = \"Baby yodaa ate 20 biscuits today.\"\r\n",
        "#now generate qr code\r\n",
        "url_code = pyqrcode.create(qr_string)"
      ],
      "execution_count": 14,
      "outputs": []
    },
    {
      "cell_type": "code",
      "metadata": {
        "id": "o2ZbOkGw7BB8"
      },
      "source": [
        "url_code.png(\"/content/drive/MyDrive/Python Projects/myqr_code.png\", scale= 10)"
      ],
      "execution_count": 15,
      "outputs": []
    },
    {
      "cell_type": "code",
      "metadata": {
        "id": "BXdAQMlo7BFA"
      },
      "source": [
        "val, point_val, qrcode_detect = d.detectAndDecode(cv2.imread(\"/content/drive/MyDrive/Python Projects/myqr_code.png\"))"
      ],
      "execution_count": 16,
      "outputs": []
    },
    {
      "cell_type": "code",
      "metadata": {
        "colab": {
          "base_uri": "https://localhost:8080/"
        },
        "id": "IUHXYnZF7BII",
        "outputId": "a8e39467-0326-476e-dab5-c888c7a5e04f"
      },
      "source": [
        "print(val)"
      ],
      "execution_count": 17,
      "outputs": [
        {
          "output_type": "stream",
          "text": [
            "Baby yodaa ate 20 biscuits today.\n"
          ],
          "name": "stdout"
        }
      ]
    },
    {
      "cell_type": "code",
      "metadata": {
        "colab": {
          "base_uri": "https://localhost:8080/"
        },
        "id": "Qvuykid17BKy",
        "outputId": "171864a8-ad97-4d91-a9ee-77c39a37911d"
      },
      "source": [
        "print(point_val)"
      ],
      "execution_count": 18,
      "outputs": [
        {
          "output_type": "stream",
          "text": [
            "[[[ 40.  40.]]\n",
            "\n",
            " [[369.  40.]]\n",
            "\n",
            " [[369. 369.]]\n",
            "\n",
            " [[ 40. 369.]]]\n"
          ],
          "name": "stdout"
        }
      ]
    },
    {
      "cell_type": "code",
      "metadata": {
        "colab": {
          "base_uri": "https://localhost:8080/"
        },
        "id": "nY-yi2R57BNb",
        "outputId": "45b2de73-3d1c-4f94-a975-21436b146d7d"
      },
      "source": [
        "print(qrcode_detect)"
      ],
      "execution_count": 19,
      "outputs": [
        {
          "output_type": "stream",
          "text": [
            "[[  0.   0.   0. ...   0.   0.   0.]\n",
            " [  0. 255. 255. ... 255. 255.   0.]\n",
            " [  0. 255.   0. ...   0. 255.   0.]\n",
            " ...\n",
            " [  0. 255.   0. ...   0.   0.   0.]\n",
            " [  0. 255. 255. ...   0.   0.   0.]\n",
            " [  0.   0.   0. ... 255. 255. 255.]]\n"
          ],
          "name": "stdout"
        }
      ]
    },
    {
      "cell_type": "code",
      "metadata": {
        "id": "-SVHl_Q67BQE"
      },
      "source": [
        "#now we generate qr code for site\r\n",
        "code_qr = \"https://www.analyticsvidhya.com/\"\r\n",
        "my_qrcode = pyqrcode.create(code_qr)"
      ],
      "execution_count": 20,
      "outputs": []
    },
    {
      "cell_type": "code",
      "metadata": {
        "id": "F7BK-Ylq7BTC"
      },
      "source": [
        "#Now we save the generated qr code in svg or png file.\r\n",
        "my_qrcode.png(\"/content/drive/MyDrive/Python Projects/analytics.png\", scale = 10)"
      ],
      "execution_count": 21,
      "outputs": []
    },
    {
      "cell_type": "code",
      "metadata": {
        "id": "Gs1kcwgC7BWl"
      },
      "source": [
        "#Now we detect and decode the QR code using OpenCV\r\n",
        "import cv2\r\n",
        "code_decode = cv2.QRCodeDetector()"
      ],
      "execution_count": 22,
      "outputs": []
    },
    {
      "cell_type": "code",
      "metadata": {
        "id": "okPkbNi-7BZ4"
      },
      "source": [
        "retval, points, straight_qrcode = code_decode.detectAndDecode(cv2.imread(\"/content/drive/MyDrive/Python Projects/analytics.png\"))"
      ],
      "execution_count": 23,
      "outputs": []
    },
    {
      "cell_type": "code",
      "metadata": {
        "colab": {
          "base_uri": "https://localhost:8080/"
        },
        "id": "DAlAfJpX7BdM",
        "outputId": "9193a145-6d49-4f6f-c434-c0a28b8352db"
      },
      "source": [
        "print(retval)"
      ],
      "execution_count": 24,
      "outputs": [
        {
          "output_type": "stream",
          "text": [
            "https://www.analyticsvidhya.com/\n"
          ],
          "name": "stdout"
        }
      ]
    },
    {
      "cell_type": "code",
      "metadata": {
        "colab": {
          "base_uri": "https://localhost:8080/"
        },
        "id": "sNKuRBy87BgM",
        "outputId": "858dbbac-baf7-4f31-e1f3-d99e96a80f66"
      },
      "source": [
        "print(points)"
      ],
      "execution_count": 25,
      "outputs": [
        {
          "output_type": "stream",
          "text": [
            "[[[ 40.  40.]]\n",
            "\n",
            " [[369.  40.]]\n",
            "\n",
            " [[369. 369.]]\n",
            "\n",
            " [[ 40. 369.]]]\n"
          ],
          "name": "stdout"
        }
      ]
    },
    {
      "cell_type": "code",
      "metadata": {
        "colab": {
          "base_uri": "https://localhost:8080/"
        },
        "id": "BH3cDYEf7BjP",
        "outputId": "13fc34e8-b70f-4f78-b78e-a76f37bd9ee2"
      },
      "source": [
        "print(straight_qrcode)"
      ],
      "execution_count": 26,
      "outputs": [
        {
          "output_type": "stream",
          "text": [
            "[[  0.   0.   0. ...   0.   0.   0.]\n",
            " [  0. 255. 255. ... 255. 255.   0.]\n",
            " [  0. 255.   0. ...   0. 255.   0.]\n",
            " ...\n",
            " [  0. 255.   0. ... 255. 255. 255.]\n",
            " [  0. 255. 255. ...   0. 255. 255.]\n",
            " [  0.   0.   0. ... 255.   0. 255.]]\n"
          ],
          "name": "stdout"
        }
      ]
    },
    {
      "cell_type": "code",
      "metadata": {
        "id": "06uTBdTT7BmW"
      },
      "source": [
        ""
      ],
      "execution_count": null,
      "outputs": []
    },
    {
      "cell_type": "code",
      "metadata": {
        "id": "hg4D1KM27Bp8"
      },
      "source": [
        ""
      ],
      "execution_count": null,
      "outputs": []
    },
    {
      "cell_type": "code",
      "metadata": {
        "id": "jm3aXB5V7BtN"
      },
      "source": [
        ""
      ],
      "execution_count": null,
      "outputs": []
    },
    {
      "cell_type": "code",
      "metadata": {
        "id": "FPQYyqzt7Bwq"
      },
      "source": [
        ""
      ],
      "execution_count": null,
      "outputs": []
    },
    {
      "cell_type": "code",
      "metadata": {
        "id": "gfIPjwYp7B0c"
      },
      "source": [
        ""
      ],
      "execution_count": null,
      "outputs": []
    },
    {
      "cell_type": "code",
      "metadata": {
        "id": "To4REbSX7B5r"
      },
      "source": [
        ""
      ],
      "execution_count": null,
      "outputs": []
    },
    {
      "cell_type": "code",
      "metadata": {
        "id": "onLWa3kN7B9Q"
      },
      "source": [
        ""
      ],
      "execution_count": null,
      "outputs": []
    },
    {
      "cell_type": "code",
      "metadata": {
        "id": "2UsTt2uT7CA8"
      },
      "source": [
        ""
      ],
      "execution_count": null,
      "outputs": []
    },
    {
      "cell_type": "code",
      "metadata": {
        "id": "-n5xb3e47CEj"
      },
      "source": [
        ""
      ],
      "execution_count": null,
      "outputs": []
    },
    {
      "cell_type": "code",
      "metadata": {
        "id": "qySiShNx7CJD"
      },
      "source": [
        ""
      ],
      "execution_count": null,
      "outputs": []
    },
    {
      "cell_type": "code",
      "metadata": {
        "id": "eRMzYXns7CMt"
      },
      "source": [
        ""
      ],
      "execution_count": null,
      "outputs": []
    },
    {
      "cell_type": "code",
      "metadata": {
        "id": "0_uRf0sr7CQM"
      },
      "source": [
        ""
      ],
      "execution_count": null,
      "outputs": []
    },
    {
      "cell_type": "code",
      "metadata": {
        "id": "d2S9AlAg7CTs"
      },
      "source": [
        ""
      ],
      "execution_count": null,
      "outputs": []
    },
    {
      "cell_type": "code",
      "metadata": {
        "id": "mPIM5EZw7CWp"
      },
      "source": [
        ""
      ],
      "execution_count": null,
      "outputs": []
    }
  ]
}